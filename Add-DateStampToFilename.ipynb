{
 "cells": [
  {
   "cell_type": "code",
   "execution_count": null,
   "metadata": {
    "dotnet_interactive": {
     "language": "pwsh"
    },
    "polyglot_notebook": {
     "kernelName": "pwsh"
    },
    "vscode": {
     "languageId": "polyglot-notebook"
    }
   },
   "outputs": [],
   "source": [
    "function Rename-ItemsRecursively {\n",
    "    param (\n",
    "        [Parameter(Mandatory = $true)]\n",
    "        [string]$Directory\n",
    "    )\n",
    "\n",
    "    # Ensure the directory exists\n",
    "    if (-Not (Test-Path -Path $Directory)) {\n",
    "        Write-Host \"The specified directory does not exist.\" -ForegroundColor Red\n",
    "        return\n",
    "    }\n",
    "\n",
    "    # Get all files and folders recursively\n",
    "    $items = Get-ChildItem -Path $Directory -Recurse\n",
    "\n",
    "    foreach ($item in $items) {\n",
    "        # Get the Last Modified and Created timestamps in the desired format\n",
    "        $lastModified = $item.LastWriteTime.ToString(\"yyyy-MM-dd_HH-mm\")\n",
    "        $createdTime = $item.CreationTime.ToString(\"yyyy-MM-dd_HH-mm\")\n",
    "\n",
    "        # Create the new name based on the required format\n",
    "        $newName = if ($item.PSIsContainer) {\n",
    "            # For folders\n",
    "            \"$lastModified-$createdTime-$($item.Name)\"\n",
    "        } else {\n",
    "            # For files, preserve the file extension\n",
    "            $baseName = [System.IO.Path]::GetFileNameWithoutExtension($item.Name)\n",
    "            $extension = [System.IO.Path]::GetExtension($item.Name)\n",
    "            \"$lastModified-$createdTime-$baseName$extension\"\n",
    "        }\n",
    "\n",
    "        # Define the full new path\n",
    "        $newPath = Join-Path -Path $item.DirectoryName -ChildPath $newName\n",
    "\n",
    "        try {\n",
    "            # Rename the file/folder\n",
    "            Rename-Item -Path $item.FullName -NewName $newPath\n",
    "        } catch {\n",
    "            Write-Host \"Failed to rename $($item.FullName): $_\" -ForegroundColor Yellow\n",
    "        }\n",
    "    }\n",
    "\n",
    "    Write-Host \"Renaming completed!\"\n",
    "}\n"
   ]
  },
  {
   "cell_type": "code",
   "execution_count": null,
   "metadata": {
    "dotnet_interactive": {
     "language": "pwsh"
    },
    "polyglot_notebook": {
     "kernelName": "pwsh"
    },
    "vscode": {
     "languageId": "polyglot-notebook"
    }
   },
   "outputs": [],
   "source": [
    "$path = \"C:\\Users\\David\\OneDrive - Avartec Inc\\Documents\\Clients\\CarlsonMcCain\"\n",
    "\n",
    "Rename-ItemsRecursively -Directory $path\n"
   ]
  }
 ],
 "metadata": {
  "kernelspec": {
   "display_name": ".NET (C#)",
   "language": "C#",
   "name": ".net-csharp"
  },
  "language_info": {
   "name": "python"
  },
  "polyglot_notebook": {
   "kernelInfo": {
    "defaultKernelName": "csharp",
    "items": [
     {
      "aliases": [],
      "name": "csharp"
     }
    ]
   }
  }
 },
 "nbformat": 4,
 "nbformat_minor": 2
}
